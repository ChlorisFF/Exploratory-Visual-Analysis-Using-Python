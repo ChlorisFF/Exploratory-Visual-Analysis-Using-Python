{
 "cells": [
  {
   "cell_type": "markdown",
   "id": "394b8f5970ac819b",
   "metadata": {
    "collapsed": false
   },
   "source": [
    "# Visual Analytics\n",
    "ΦΛΩΡΑ ΦΥΚΑ"
   ]
  },
  {
   "cell_type": "markdown",
   "source": [
    "## Building Interactive Dashboards with Plotly and Dash"
   ],
   "metadata": {
    "collapsed": false
   },
   "id": "d61f919fe2c75db3"
  },
  {
   "cell_type": "markdown",
   "source": [
    "#### I imported the 'MyLib' library, encompassing all functions utilized in VA Project 1, and 'MyLib2', which integrates the new functions specifically developed for creating the dashboard application."
   ],
   "metadata": {
    "collapsed": false
   },
   "id": "85b33714f9f3e830"
  },
  {
   "cell_type": "code",
   "execution_count": 5,
   "outputs": [],
   "source": [
    "import MyLib2 as mylib2\n",
    "import pandas as pd"
   ],
   "metadata": {
    "collapsed": false,
    "ExecuteTime": {
     "end_time": "2024-06-09T20:46:46.946630300Z",
     "start_time": "2024-06-09T20:46:46.936114500Z"
    }
   },
   "id": "7d94db73aeef5695"
  },
  {
   "cell_type": "markdown",
   "source": [
    "#### I utilized the pre-processed dataframe from Visual Analytics Project 1, assuming that the original dataframe remains consistent. By leveraging the cleaned data of European countries, I aimed to achieve more insightful analytics visualizations."
   ],
   "metadata": {
    "collapsed": false
   },
   "id": "3562a5dcd91ac327"
  },
  {
   "cell_type": "code",
   "execution_count": 6,
   "id": "db0dfbabacf002b8",
   "metadata": {
    "collapsed": false,
    "ExecuteTime": {
     "end_time": "2024-06-09T20:46:46.954661400Z",
     "start_time": "2024-06-09T20:46:46.938644700Z"
    }
   },
   "outputs": [],
   "source": [
    "EU_df = pd.read_csv('EU_Electricity_df.csv')"
   ]
  },
  {
   "cell_type": "markdown",
   "source": [
    "MyLib2\" houses all the functions responsible for constructing the dashboard application. Running the \"MyLib2.py\" file initiates the dashboard on a local host.\n",
    "\n",
    "The dashboard showcases four distinct plots, providing visualizations to aid in exploring various aspects of electricity generation. These include:\n",
    "\n",
    "- Electricity Generation Distribution across different countries.\n",
    "- Electricity Generation Trends based on country and electricity type.\n",
    "- Electricity Generation Comparison among countries and years.\n",
    "- Renewable Energy Production Sources."
   ],
   "metadata": {
    "collapsed": false
   },
   "id": "e5848ceae3bc5e8f"
  },
  {
   "cell_type": "code",
   "execution_count": 7,
   "id": "426f98340b3bac52",
   "metadata": {
    "collapsed": false,
    "ExecuteTime": {
     "end_time": "2024-06-09T20:46:46.970454100Z",
     "start_time": "2024-06-09T20:46:46.946630300Z"
    }
   },
   "outputs": [],
   "source": [
    "mylib2.Run_energy_dashboard_app(EU_df)"
   ]
  },
  {
   "cell_type": "markdown",
   "source": [
    "Rather than relying on screenshots, I've included a brief video showcasing the dashboard's functionality."
   ],
   "metadata": {
    "collapsed": false
   },
   "id": "2acc19c5f9602f7b"
  },
  {
   "cell_type": "markdown",
   "id": "78b40c4bcdbe3a0d",
   "metadata": {
    "collapsed": false
   },
   "source": []
  }
 ],
 "metadata": {
  "kernelspec": {
   "display_name": "Python 3 (ipykernel)",
   "language": "python",
   "name": "python3"
  },
  "language_info": {
   "codemirror_mode": {
    "name": "ipython",
    "version": 3
   },
   "file_extension": ".py",
   "mimetype": "text/x-python",
   "name": "python",
   "nbconvert_exporter": "python",
   "pygments_lexer": "ipython3",
   "version": "3.12.0"
  }
 },
 "nbformat": 4,
 "nbformat_minor": 5
}
